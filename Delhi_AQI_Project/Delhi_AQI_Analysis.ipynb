{
 "cells": [
  {
   "cell_type": "code",
   "execution_count": null,
   "id": "a20df93c-c3c6-4dfd-bb3f-7ec7ef63371b",
   "metadata": {},
   "outputs": [],
   "source": [
    "import pandas as pd\n",
    "import matplotlib.pyplot as plt\n",
    "import seaborn as sns\n",
    "import ipywidgets as widgets\n",
    "from IPython.display import display\n"
   ]
  },
  {
   "cell_type": "code",
   "execution_count": null,
   "id": "c64303ea-be0c-4acd-b50d-246d62c5b0dc",
   "metadata": {
    "scrolled": true
   },
   "outputs": [],
   "source": [
    "# Step 1: Import Required Libraries\n",
    "import pandas as pd\n",
    "import matplotlib.pyplot as plt\n",
    "import seaborn as sns\n",
    "\n",
    "# Step 2: Load the CSV file\n",
    "df = pd.read_csv('delhiaqi.csv')\n",
    "\n",
    "# Step 3: Explore the data\n",
    "df.info()\n",
    "df.head()\n"
   ]
  },
  {
   "cell_type": "code",
   "execution_count": null,
   "id": "b13ac006-241b-4398-9649-fb2ca55955c3",
   "metadata": {},
   "outputs": [],
   "source": [
    "# Convert 'date' to datetime format\n",
    "df['date'] = pd.to_datetime(df['date'])\n",
    "\n",
    "# Extract parts of the date\n",
    "df['year'] = df['date'].dt.year\n",
    "df['month'] = df['date'].dt.month\n",
    "df['day'] = df['date'].dt.day\n",
    "df['hour'] = df['date'].dt.hour\n",
    "df['weekday'] = df['date'].dt.day_name()\n"
   ]
  },
  {
   "cell_type": "code",
   "execution_count": null,
   "id": "d7765641-f804-4a72-ad36-0205eb81d840",
   "metadata": {},
   "outputs": [],
   "source": [
    "# Function to assign seasons based on month\n",
    "def get_season(month):\n",
    "    if month in [12, 1, 2]:\n",
    "        return 'Winter'\n",
    "    elif month in [3, 4, 5]:\n",
    "        return 'Summer'\n",
    "    elif month in [6, 7, 8]:\n",
    "        return 'Monsoon'\n",
    "    else:\n",
    "        return 'Post-Monsoon'\n",
    "\n",
    "df['season'] = df['month'].apply(get_season)"
   ]
  },
  {
   "cell_type": "code",
   "execution_count": null,
   "id": "ce776bb5-6aa9-4c5c-b7d8-eea7d6c60dde",
   "metadata": {
    "scrolled": true
   },
   "outputs": [],
   "source": [
    "df[['date', 'month', 'season']].head()"
   ]
  },
  {
   "cell_type": "code",
   "execution_count": null,
   "id": "2d2c821a-1ac9-45a1-a98f-ea2bdd03a01a",
   "metadata": {},
   "outputs": [],
   "source": [
    "pollutants = ['pm25', 'pm10', 'no', 'no2', 'nox', 'nh3', 'co', 'so2', 'o3', 'benzene', 'toluene']\n"
   ]
  },
  {
   "cell_type": "code",
   "execution_count": null,
   "id": "9248c379-b1c3-4c60-b0de-d8d7d864d1ad",
   "metadata": {},
   "outputs": [],
   "source": [
    "df.columns"
   ]
  },
  {
   "cell_type": "code",
   "execution_count": null,
   "id": "e465467c-d082-4761-933a-71153176d005",
   "metadata": {},
   "outputs": [],
   "source": [
    "pollutants = ['pm10', 'no', 'no2', 'co', 'so2', 'o3', 'nh3']\n"
   ]
  },
  {
   "cell_type": "code",
   "execution_count": null,
   "id": "db387322-8800-4b63-8c58-9f41c2a41e2a",
   "metadata": {},
   "outputs": [],
   "source": [
    "seasonal_avg = df.groupby('season')[pollutants].mean()"
   ]
  },
  {
   "cell_type": "code",
   "execution_count": null,
   "id": "cc875bd6-ec86-4c08-9c9e-67dea2bfaf0e",
   "metadata": {
    "scrolled": true
   },
   "outputs": [],
   "source": [
    "import matplotlib.pyplot as plt\n",
    "\n",
    "# Plotting the seasonal variation\n",
    "plt.figure(figsize=(12, 6))\n",
    "seasonal_avg.plot(kind='bar')\n",
    "plt.title('Average Pollutant Levels by Season in Delhi')\n",
    "plt.ylabel('Pollutant Concentration (µg/m³)')\n",
    "plt.xlabel('Season')\n",
    "plt.xticks(rotation=0)\n",
    "plt.grid(True)\n",
    "plt.legend(title='Pollutants')\n",
    "plt.tight_layout()\n",
    "plt.show()"
   ]
  },
  {
   "cell_type": "code",
   "execution_count": null,
   "id": "86fb2dcc-0c63-4841-9bdf-4d128804adc3",
   "metadata": {},
   "outputs": [],
   "source": [
    "print(df.columns.tolist())"
   ]
  },
  {
   "cell_type": "code",
   "execution_count": null,
   "id": "84e4e622-ea6e-4224-95b2-abd83af4351c",
   "metadata": {},
   "outputs": [],
   "source": [
    "# Convert 'date' column to datetime and extract only the date part (no time)\n",
    "df['only_date'] = pd.to_datetime(df['date']).dt.date\n"
   ]
  },
  {
   "cell_type": "code",
   "execution_count": null,
   "id": "cb65637c-8e34-4f7d-8046-9e7b86573280",
   "metadata": {
    "scrolled": true
   },
   "outputs": [],
   "source": [
    "import matplotlib.pyplot as plt\n",
    "\n",
    "# Step 1: Calculate average of pm2.5 and pm10 per day\n",
    "daily_avg = df.groupby('only_date')[['pm2_5', 'pm10']].mean()\n",
    "daily_avg['approx_aqi'] = (daily_avg['pm2_5'] + daily_avg['pm10']) / 2\n",
    "\n",
    "# Step 2: Plot it\n",
    "plt.figure(figsize=(14,6))\n",
    "plt.plot(daily_avg.index, daily_avg['approx_aqi'], color='crimson')\n",
    "plt.title(\"Approximate Daily AQI Trend in Delhi\", fontsize=16)\n",
    "plt.xlabel(\"Date\")\n",
    "plt.ylabel(\"Approx AQI (Average of PM2.5 and PM10)\")\n",
    "plt.grid(True)\n",
    "plt.tight_layout()\n",
    "plt.show()"
   ]
  },
  {
   "cell_type": "code",
   "execution_count": null,
   "id": "b8e2f7e6-6c9e-4de1-916a-8281345a49a6",
   "metadata": {
    "scrolled": true
   },
   "outputs": [],
   "source": [
    "# Show column names again to verify pollutant columns\n",
    "df.columns.tolist()\n"
   ]
  },
  {
   "cell_type": "code",
   "execution_count": null,
   "id": "e055fb08-76f4-476c-a4d4-949803995f24",
   "metadata": {},
   "outputs": [],
   "source": [
    "# List of pollutant columns\n",
    "pollutants = ['pm2_5', 'pm10', 'co', 'no', 'no2', 'so2', 'o3', 'nh3']\n",
    "\n",
    "# Calculate seasonal averages\n",
    "seasonal_avg = df.groupby('season')[pollutants].mean()\n",
    "\n",
    "# Display result\n",
    "seasonal_avg\n"
   ]
  },
  {
   "cell_type": "code",
   "execution_count": null,
   "id": "08af9da0-80fe-4246-9688-4bf16c51f697",
   "metadata": {
    "scrolled": true
   },
   "outputs": [],
   "source": [
    "import matplotlib.pyplot as plt\n",
    "\n",
    "# Plot bar chart\n",
    "seasonal_avg.plot(kind='bar', figsize=(12,6))\n",
    "plt.title('Average Pollutant Levels by Season')\n",
    "plt.ylabel('Concentration')\n",
    "plt.xlabel('Season')\n",
    "plt.xticks(rotation=0)\n",
    "plt.legend(title='Pollutants')\n",
    "plt.tight_layout()\n",
    "plt.show()\n"
   ]
  },
  {
   "cell_type": "code",
   "execution_count": null,
   "id": "52d1c7a8-9301-493b-8313-a278bdf86733",
   "metadata": {},
   "outputs": [],
   "source": [
    "pollutant_cols = ['co', 'no', 'no2', 'o3', 'so2', 'pm2_5', 'pm10', 'nh3']\n",
    "pollutant_data = df[pollutant_cols]\n"
   ]
  },
  {
   "cell_type": "code",
   "execution_count": null,
   "id": "40728ca2-fcaf-4e56-9937-7a2466eb2abc",
   "metadata": {},
   "outputs": [],
   "source": [
    "import seaborn as sns\n",
    "import matplotlib.pyplot as plt\n"
   ]
  },
  {
   "cell_type": "code",
   "execution_count": null,
   "id": "178c3f82-df83-4013-a91d-32085ba79444",
   "metadata": {
    "scrolled": true
   },
   "outputs": [],
   "source": [
    "plt.figure(figsize=(10, 6))\n",
    "sns.heatmap(pollutant_data.corr(), annot=True, cmap='coolwarm', fmt=\".2f\")\n",
    "plt.title(\"Correlation Heatmap of Air Pollutants\")\n",
    "plt.show()\n"
   ]
  },
  {
   "cell_type": "code",
   "execution_count": null,
   "id": "966d2d22-959b-4e7b-9d8f-81c3792a7af0",
   "metadata": {
    "scrolled": true
   },
   "outputs": [],
   "source": [
    "['date', 'co', 'no', 'no2', 'o3', 'so2', 'pm2_5', 'pm10', 'nh3', 'year', 'month', 'day', 'hour', 'weekday', 'season', 'only_date']\n"
   ]
  },
  {
   "cell_type": "code",
   "execution_count": null,
   "id": "e33134e9-1302-4f72-a805-04dfa6aa6e03",
   "metadata": {},
   "outputs": [],
   "source": [
    "monthly_avg = df.groupby('month')['pm2_5'].mean()\n"
   ]
  },
  {
   "cell_type": "code",
   "execution_count": null,
   "id": "0d18f893-b6b8-47c6-8970-b58918df5a9e",
   "metadata": {
    "scrolled": true
   },
   "outputs": [],
   "source": [
    "plt.figure(figsize=(10, 5))\n",
    "monthly_avg.plot(marker='o', color='purple')\n",
    "plt.title('Average PM2.5 Levels by Month')\n",
    "plt.xlabel('Month')\n",
    "plt.ylabel('PM2.5 Concentration')\n",
    "plt.xticks(range(1, 13))  # Ensure months show correctly\n",
    "plt.grid(True)\n",
    "plt.show()"
   ]
  },
  {
   "cell_type": "code",
   "execution_count": null,
   "id": "461c47f8-27c9-445d-a106-110c9d790187",
   "metadata": {},
   "outputs": [],
   "source": [
    "hourly_avg = df.groupby('hour')['pm2_5'].mean()\n"
   ]
  },
  {
   "cell_type": "code",
   "execution_count": null,
   "id": "e248d59d-a832-4ff8-9386-5267460f6742",
   "metadata": {
    "scrolled": true
   },
   "outputs": [],
   "source": [
    "plt.figure(figsize=(10, 5))\n",
    "hourly_avg.plot(marker='o', color='green')\n",
    "plt.title('Average PM2.5 Levels by Hour of Day')\n",
    "plt.xlabel('Hour (0 to 23)')\n",
    "plt.ylabel('PM2.5 Concentration')\n",
    "plt.xticks(range(0, 24))\n",
    "plt.grid(True)\n",
    "plt.show()\n"
   ]
  },
  {
   "cell_type": "code",
   "execution_count": null,
   "id": "ce8ddbd5-fca5-4f9d-8c47-4149afac290b",
   "metadata": {},
   "outputs": [],
   "source": [
    "df = pd.read_csv('delhiaqi.csv')\n",
    "\n",
    "# Convert date to datetime\n",
    "df['date'] = pd.to_datetime(df['date'])\n",
    "\n",
    "# Create additional time-based columns\n",
    "df['only_date'] = df['date'].dt.date\n",
    "df['month'] = df['date'].dt.month\n",
    "df['season'] = df['month'].map({\n",
    "    12: 'Winter', 1: 'Winter', 2: 'Winter',\n",
    "    3: 'Summer', 4: 'Summer', 5: 'Summer',\n",
    "    6: 'Monsoon', 7: 'Monsoon', 8: 'Monsoon',\n",
    "    9: 'Post-Monsoon', 10: 'Post-Monsoon', 11: 'Post-Monsoon'\n",
    "})\n"
   ]
  },
  {
   "cell_type": "code",
   "execution_count": null,
   "id": "739df4d5-46b9-4e7c-8f5c-2b25e4c35ee2",
   "metadata": {},
   "outputs": [],
   "source": [
    "pollutants = ['co', 'no', 'no2', 'o3', 'so2', 'pm2_5', 'pm10', 'nh3']\n",
    "\n",
    "pollutant_dropdown = widgets.Dropdown(\n",
    "    options=pollutants,\n",
    "    value='pm2_5',\n",
    "    description='Pollutant:',\n",
    "    style={'description_width': 'initial'}\n",
    ")\n",
    "\n",
    "display(pollutant_dropdown)\n"
   ]
  },
  {
   "cell_type": "code",
   "execution_count": null,
   "id": "3082bf10-c0bc-41b2-a3bd-aeddf1cd5300",
   "metadata": {},
   "outputs": [],
   "source": [
    "def plot_pollution(pollutant):\n",
    "    daily_avg = df.groupby('only_date')[pollutant].mean()\n",
    "    plt.figure(figsize=(14, 5))\n",
    "    sns.lineplot(x=daily_avg.index, y=daily_avg.values)\n",
    "    plt.title(f'Daily Average of {pollutant.upper()} Over Time')\n",
    "    plt.xlabel('Date')\n",
    "    plt.ylabel(f'{pollutant.upper()} Level')\n",
    "    plt.grid(True)\n",
    "    plt.tight_layout()\n",
    "    plt.savefig(f'{pollutant}_trend.png')  # 🔽 Save for Option D\n",
    "    plt.show()\n",
    "\n",
    "pollutant_dropdown.observe(lambda change: plot_pollution(change['new']), names='value')\n"
   ]
  },
  {
   "cell_type": "code",
   "execution_count": null,
   "id": "c7ec95aa-4798-4e8a-aebf-8850036296fa",
   "metadata": {
    "scrolled": true
   },
   "outputs": [],
   "source": [
    "plot_pollution(pollutant_dropdown.value)\n"
   ]
  },
  {
   "cell_type": "code",
   "execution_count": null,
   "id": "768ebec8-c759-4081-8bc2-d0868fb2a1e1",
   "metadata": {},
   "outputs": [],
   "source": []
  }
 ],
 "metadata": {
  "kernelspec": {
   "display_name": "Python [conda env:base] *",
   "language": "python",
   "name": "conda-base-py"
  },
  "language_info": {
   "codemirror_mode": {
    "name": "ipython",
    "version": 3
   },
   "file_extension": ".py",
   "mimetype": "text/x-python",
   "name": "python",
   "nbconvert_exporter": "python",
   "pygments_lexer": "ipython3",
   "version": "3.13.5"
  }
 },
 "nbformat": 4,
 "nbformat_minor": 5
}
